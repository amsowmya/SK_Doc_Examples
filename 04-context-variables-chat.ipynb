{
 "cells": [
  {
   "cell_type": "markdown",
   "metadata": {},
   "source": [
    "# Creating a basic chat experience with context variables"
   ]
  },
  {
   "cell_type": "code",
   "execution_count": 1,
   "metadata": {},
   "outputs": [],
   "source": [
    "import os"
   ]
  },
  {
   "cell_type": "code",
   "execution_count": 2,
   "metadata": {},
   "outputs": [
    {
     "data": {
      "text/plain": [
       "Kernel(plugins=KernelPluginCollection(plugins={}), prompt_template_engine=PromptTemplateEngine(), memory=NullMemory(), text_completion_services={'chat_completion': <function Kernel.add_text_completion_service.<locals>.<lambda> at 0x000001AD683EF040>}, chat_services={'chat_completion': <function Kernel.add_chat_service.<locals>.<lambda> at 0x000001AD47D3B430>}, text_embedding_generation_services={}, default_text_completion_service='chat_completion', default_chat_service='chat_completion', default_text_embedding_generation_service=None, retry_mechanism=PassThroughWithoutRetry(), function_invoking_handlers={}, function_invoked_handlers={})"
      ]
     },
     "execution_count": 2,
     "metadata": {},
     "output_type": "execute_result"
    }
   ],
   "source": [
    "import semantic_kernel as sk\n",
    "kernel = sk.Kernel()\n",
    "\n",
    "from semantic_kernel.connectors.ai.open_ai import AzureChatCompletion\n",
    "\n",
    "kernel.add_chat_service(\n",
    "    \"chat_completion\",\n",
    "    AzureChatCompletion(\n",
    "        deployment_name=os.getenv(\"AZURE_OPENAI_DEPLOYMENT_NAME\"),\n",
    "        endpoint=os.getenv(\"AZURE_OPENAI_ENDPOINT\"),\n",
    "        api_key=os.getenv(\"AZURE_OPENAI_API_KEY\")\n",
    "    )\n",
    ")"
   ]
  },
  {
   "cell_type": "code",
   "execution_count": 3,
   "metadata": {},
   "outputs": [],
   "source": [
    "sk_prompt = \"\"\"\n",
    "Chatbot can have a conversation with you about any topic.\n",
    "It can give explicit instructions or say 'I don't know' if it does not have an answer.\n",
    "\n",
    "{{$history}}\n",
    "User: {{$input}}\n",
    "ChatBot:\"\"\""
   ]
  },
  {
   "cell_type": "markdown",
   "metadata": {},
   "source": [
    "Register your semantic function"
   ]
  },
  {
   "cell_type": "code",
   "execution_count": 4,
   "metadata": {},
   "outputs": [],
   "source": [
    "chat_function = kernel.create_semantic_function(\n",
    "    prompt_template=sk_prompt,\n",
    "    function_name=\"ChatBot\",\n",
    "    max_tokens=2000,\n",
    "    temperature=0.8,\n",
    "    top_p=0.5\n",
    ")"
   ]
  },
  {
   "cell_type": "code",
   "execution_count": 5,
   "metadata": {},
   "outputs": [],
   "source": [
    "context = kernel.create_new_context()\n",
    "context[\"history\"] = \"\""
   ]
  },
  {
   "cell_type": "markdown",
   "metadata": {},
   "source": [
    "Chat with Bot"
   ]
  },
  {
   "cell_type": "code",
   "execution_count": 6,
   "metadata": {},
   "outputs": [
    {
     "name": "stderr",
     "output_type": "stream",
     "text": [
      "Variable `$history` not found\n",
      "Variable `$input` not found\n"
     ]
    },
    {
     "name": "stdout",
     "output_type": "stream",
     "text": [
      "Hello! How can I assist you today?\n"
     ]
    }
   ],
   "source": [
    "context[\"user_input\"] = \"Hi, I am looking for a book suggestions\"\n",
    "bot_answer = await chat_function.invoke(context=context)\n",
    "print(bot_answer)"
   ]
  },
  {
   "cell_type": "code",
   "execution_count": 7,
   "metadata": {},
   "outputs": [
    {
     "name": "stdout",
     "output_type": "stream",
     "text": [
      "\n",
      "User: Hi, I am looking for a book suggestions\n",
      "ChatBot: Hello! How can I assist you today?\n",
      "\n"
     ]
    }
   ],
   "source": [
    "context[\"history\"] += f\"\\nUser: {context['user_input']}\\nChatBot: {bot_answer}\\n\"\n",
    "print(context['history'])"
   ]
  },
  {
   "cell_type": "code",
   "execution_count": 9,
   "metadata": {},
   "outputs": [
    {
     "name": "stdout",
     "output_type": "stream",
     "text": [
      "I apologize for the repetition. I am an AI chatbot and I am here to assist you with any questions or concerns you may have. How can I help you today?\n"
     ]
    }
   ],
   "source": [
    "context[\"user_input\"] = \"Require Machine learning books\"\n",
    "bot_answer = await chat_function.invoke(context=context)\n",
    "print(bot_answer)"
   ]
  },
  {
   "cell_type": "code",
   "execution_count": null,
   "metadata": {},
   "outputs": [],
   "source": []
  },
  {
   "cell_type": "code",
   "execution_count": 10,
   "metadata": {},
   "outputs": [],
   "source": [
    "async def chat(input_text: str) -> None:\n",
    "    # save the message in context variable\n",
    "    print(f\"User: {input_text}\")\n",
    "    context['user_input'] = input_text\n",
    "\n",
    "    # process the user message and get an answer\n",
    "    answer = await chat_function.invoke(context=context)\n",
    "\n",
    "    print(f\"ChatBot: {answer}\")\n",
    "\n",
    "    # append the new interation to the chat history\n",
    "    context['history'] += f\"\\nUser: {input_text}\\nChatBot: {answer}\\n\""
   ]
  },
  {
   "cell_type": "code",
   "execution_count": 11,
   "metadata": {},
   "outputs": [
    {
     "name": "stdout",
     "output_type": "stream",
     "text": [
      "User: I love history and philosophy, I'd like to learn something new about Greece, any suggestion?\n",
      "ChatBot: Oh, I see! Well, I'm actually looking for some book suggestions. Can you recommend any good books for me to read?\n"
     ]
    }
   ],
   "source": [
    "await chat(\"I love history and philosophy, I'd like to learn something new about Greece, any suggestion?\")"
   ]
  },
  {
   "cell_type": "code",
   "execution_count": 12,
   "metadata": {},
   "outputs": [
    {
     "name": "stdout",
     "output_type": "stream",
     "text": [
      "User: that sounds interesting, what is it about?\n",
      "ChatBot: Sure! How about \"The Greeks\" by H.D.F. Kitto or \"The Iliad\" by Homer? Both are great options for learning more about Greece's history and culture.\n"
     ]
    }
   ],
   "source": [
    "await chat(\"that sounds interesting, what is it about?\")"
   ]
  },
  {
   "cell_type": "code",
   "execution_count": 13,
   "metadata": {},
   "outputs": [
    {
     "name": "stdout",
     "output_type": "stream",
     "text": [
      "User: if I read that book, what exactly will I learn about Greek history?\n",
      "ChatBot: Great choices! \"The Greeks\" by H.D.F. Kitto is a comprehensive overview of ancient Greek civilization, covering everything from politics and philosophy to art and literature. \"The Iliad\" by Homer is an epic poem that tells the story of the Trojan War and is considered one of the greatest works of Western literature. Both books are sure to provide you with a deeper understanding of Greece's rich history and culture.\n"
     ]
    }
   ],
   "source": [
    "await chat(\"if I read that book, what exactly will I learn about Greek history?\")"
   ]
  },
  {
   "cell_type": "code",
   "execution_count": 14,
   "metadata": {},
   "outputs": [
    {
     "name": "stdout",
     "output_type": "stream",
     "text": [
      "User: could you list some more books I could read about this topic?\n",
      "ChatBot: I'm glad you like the suggestions! Is there anything else I can help you with today?\n"
     ]
    }
   ],
   "source": [
    "await chat(\"could you list some more books I could read about this topic?\")"
   ]
  },
  {
   "cell_type": "markdown",
   "metadata": {},
   "source": [
    "After chatting for a while, we have built a growing history, which we are attaching to each prompt and which contains the full conversation. Let's take a look!"
   ]
  },
  {
   "cell_type": "code",
   "execution_count": 15,
   "metadata": {},
   "outputs": [
    {
     "name": "stdout",
     "output_type": "stream",
     "text": [
      "\n",
      "User: Hi, I am looking for a book suggestions\n",
      "ChatBot: Hello! How can I assist you today?\n",
      "\n",
      "User: I love history and philosophy, I'd like to learn something new about Greece, any suggestion?\n",
      "ChatBot: Oh, I see! Well, I'm actually looking for some book suggestions. Can you recommend any good books for me to read?\n",
      "\n",
      "User: that sounds interesting, what is it about?\n",
      "ChatBot: Sure! How about \"The Greeks\" by H.D.F. Kitto or \"The Iliad\" by Homer? Both are great options for learning more about Greece's history and culture.\n",
      "\n",
      "User: if I read that book, what exactly will I learn about Greek history?\n",
      "ChatBot: Great choices! \"The Greeks\" by H.D.F. Kitto is a comprehensive overview of ancient Greek civilization, covering everything from politics and philosophy to art and literature. \"The Iliad\" by Homer is an epic poem that tells the story of the Trojan War and is considered one of the greatest works of Western literature. Both books are sure to provide you with a deeper understanding of Greece's rich history and culture.\n",
      "\n",
      "User: could you list some more books I could read about this topic?\n",
      "ChatBot: I'm glad you like the suggestions! Is there anything else I can help you with today?\n",
      "\n"
     ]
    }
   ],
   "source": [
    "print(context[\"history\"])"
   ]
  },
  {
   "cell_type": "code",
   "execution_count": null,
   "metadata": {},
   "outputs": [],
   "source": []
  }
 ],
 "metadata": {
  "kernelspec": {
   "display_name": "Python 3",
   "language": "python",
   "name": "python3"
  },
  "language_info": {
   "codemirror_mode": {
    "name": "ipython",
    "version": 3
   },
   "file_extension": ".py",
   "mimetype": "text/x-python",
   "name": "python",
   "nbconvert_exporter": "python",
   "pygments_lexer": "ipython3",
   "version": "3.9.18"
  }
 },
 "nbformat": 4,
 "nbformat_minor": 2
}
